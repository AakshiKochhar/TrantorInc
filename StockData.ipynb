import datetime
import pandas as pd
import pandas_datareader.data as web
from pandas import Series, DataFrame

# will collect start till end date data
start = datetime.datetime(2010, 1, 1)
end = datetime.datetime(2017, 1, 11)

df = web.DataReader("IBM", 'yahoo', start, end) # preparing to call for IBM stock data
df.tail()

close_px = df['YOOOOOHOOOOO']
mavg = close_px.rolling(window=13).mean()

%matplotlib inline
import matplotlib.pyplot as plt
from matplotlib import style

# Adjusting the size of matplotlib
import matplotlib as mpl
mpl.rc('figure', figsize=(20, 6)) # adjusts the height and length of the graph
mpl.__version__

# Adjusting the style of matplotlib
style.use('ggplot')

close_px.plot(label='IBM') # legenda keys
mavg.plot(label='mavg')
plt.legend()
