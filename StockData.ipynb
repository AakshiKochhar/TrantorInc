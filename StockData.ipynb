import datetime
import pandas as pd
import pandas_datareader.data as web
from pandas import Series, DataFrame
# will collect start till end date data
start = datetime.datetime(2010, 1, 1)
end = datetime.datetime(2019, 12, 31)

# will collect IBM's stock data
df = web.DataReader("IBM", 'yahoo', start, end) # preparing to call for IBM stock data
df.tail()

#comment
close_px = df['Adj Close']
mavg = close_px.rolling(window=20).mean()

%matplotlib inline
import matplotlib.pyplot as plt
from matplotlib import style

# Adjusting the size of matplotlib
import matplotlib as mpl
mpl.rc('figure', figsize=(8, 7))
mpl.__version__

# Adjusting the style of matplotlib
style.use('ggplot')

close_px.plot(label='IBM')
mavg.plot(label='mavg')
plt.legend()

# comment
dfcomp = web.DataReader(['AAPL', 'GOOG', 'IBM', 'MSFT'],'yahoo',start=start,end=end)['Adj Close']
dfcomp.tail()

# comment
retscomp = dfcomp.pct_change()

corr = retscomp.corr()

# comment 
plt.scatter(retscomp.IBM, retscomp.MSFT)
plt.xlabel('Returns IBM')
plt.ylabel('Returns MSFT')

# comment
dfreg = df.loc[:,['Adj Close','Volume']]
dfreg['HL_PCT'] = (df['High'] - df['Low']) / df['Close'] * 100.0
dfreg['PCT_change'] = (df['Close'] - df['Open']) / df['Open'] * 100.0
